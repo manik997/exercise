{
 "cells": [
  {
   "cell_type": "markdown",
   "id": "8e1ace0c-0d69-4421-ba37-3c998c81885e",
   "metadata": {},
   "source": [
    "Modeling (baseline + NN) & Inference"
   ]
  },
  {
   "cell_type": "markdown",
   "id": "9fe05256-fb9c-4be0-a86e-9fcaeafa5d37",
   "metadata": {},
   "source": [
    "Setup & load"
   ]
  },
  {
   "cell_type": "code",
   "execution_count": 1,
   "id": "a8b70441-555a-4420-af86-605fa177206c",
   "metadata": {},
   "outputs": [
    {
     "data": {
      "text/plain": [
       "((199121, 23), (102505, 23), 'bad_flag')"
      ]
     },
     "execution_count": 1,
     "metadata": {},
     "output_type": "execute_result"
    }
   ],
   "source": [
    "import pandas as pd, numpy as np, matplotlib.pyplot as plt\n",
    "from pathlib import Path\n",
    "\n",
    "ROOT = Path(\"..\").resolve()\n",
    "DATA = ROOT/\"data\"\n",
    "FIGS = ROOT/\"reports/figures\"\n",
    "FIGS.mkdir(parents=True, exist_ok=True)\n",
    "def savefig(fig, name): \n",
    "    path = FIGS/f\"{name}.png\"; fig.savefig(path, dpi=300, bbox_inches=\"tight\"); print(\"Saved:\", path)\n",
    "\n",
    "def read_data(path: Path):\n",
    "    with open(path, \"r\", encoding=\"utf-8\", errors=\"ignore\") as f:\n",
    "        first = f.readline()\n",
    "    skip = 1 if first.lower().startswith(\"data derived\") else 0\n",
    "    return pd.read_csv(path, low_memory=False, skiprows=skip)\n",
    "\n",
    "train = read_data(DATA/\"training_loan_data.csv\")\n",
    "test  = read_data(DATA/\"testing_loan_data.csv\")\n",
    "target_col = next((c for c in train.columns if c.strip().lower()==\"bad_flag\"), None)\n",
    "assert target_col\n",
    "drop_cols = [c for c in [\"id\",\"member_id\"] if c in train.columns]\n",
    "train.shape, test.shape, target_col\n"
   ]
  },
  {
   "cell_type": "markdown",
   "id": "4946ba91-bb1b-40af-b0a3-64a670c2eca1",
   "metadata": {},
   "source": [
    "Logistic Regression baseline (preprocessing + ROC figure)"
   ]
  },
  {
   "cell_type": "code",
   "execution_count": 2,
   "id": "ccf25045-9a41-4482-ad40-e4e64b820399",
   "metadata": {},
   "outputs": [
    {
     "name": "stderr",
     "output_type": "stream",
     "text": [
      "/Users/manikmalhotra/Desktop/anaconda/anaconda3/envs/jpm/lib/python3.10/site-packages/sklearn/linear_model/_logistic.py:460: ConvergenceWarning: lbfgs failed to converge (status=1):\n",
      "STOP: TOTAL NO. of ITERATIONS REACHED LIMIT.\n",
      "\n",
      "Increase the number of iterations (max_iter) or scale the data as shown in:\n",
      "    https://scikit-learn.org/stable/modules/preprocessing.html\n",
      "Please also refer to the documentation for alternative solver options:\n",
      "    https://scikit-learn.org/stable/modules/linear_model.html#logistic-regression\n",
      "  n_iter_i = _check_optimize_result(\n"
     ]
    },
    {
     "name": "stdout",
     "output_type": "stream",
     "text": [
      "Validation AUC (LR): 0.7033\n",
      "              precision    recall  f1-score   support\n",
      "\n",
      "           0      0.931     1.000     0.964     35266\n",
      "           1      0.667     0.002     0.003      2626\n",
      "\n",
      "    accuracy                          0.931     37892\n",
      "   macro avg      0.799     0.501     0.484     37892\n",
      "weighted avg      0.912     0.931     0.898     37892\n",
      "\n",
      "Saved: /Users/manikmalhotra/jpm_quant_project/reports/figures/roc_logistic_baseline.png\n"
     ]
    },
    {
     "data": {
      "image/png": "[encoded data removed]",
      "text/plain": [
       "<Figure size 500x400 with 1 Axes>"
      ]
     },
     "metadata": {},
     "output_type": "display_data"
    }
   ],
   "source": [
    "from sklearn.compose import ColumnTransformer\n",
    "from sklearn.preprocessing import OneHotEncoder, StandardScaler\n",
    "from sklearn.impute import SimpleImputer\n",
    "from sklearn.pipeline import Pipeline\n",
    "from sklearn.linear_model import LogisticRegression\n",
    "from sklearn.model_selection import train_test_split\n",
    "from sklearn.metrics import roc_auc_score, roc_curve, classification_report\n",
    "\n",
    "y_raw = pd.to_numeric(train[target_col], errors=\"coerce\")\n",
    "mask = y_raw.notna()\n",
    "y = y_raw.loc[mask].astype(int)\n",
    "X = train.loc[mask].drop(columns=drop_cols + [target_col])\n",
    "\n",
    "cat_cols = [c for c in X if X[c].dtype == \"object\"]\n",
    "num_cols = [c for c in X if c not in cat_cols]\n",
    "\n",
    "pre = ColumnTransformer([\n",
    "    (\"num\", Pipeline([(\"imp\", SimpleImputer(strategy=\"median\")),\n",
    "                      (\"sc\",  StandardScaler(with_mean=False))]), num_cols),\n",
    "    (\"cat\", Pipeline([(\"imp\", SimpleImputer(strategy=\"most_frequent\")),\n",
    "                      (\"oh\",  OneHotEncoder(handle_unknown=\"ignore\"))]), cat_cols),\n",
    "])\n",
    "\n",
    "X_tr, X_va, y_tr, y_va = train_test_split(X, y, test_size=0.2, random_state=42, stratify=y)\n",
    "clf = Pipeline([(\"pre\", pre), (\"lr\", LogisticRegression(max_iter=400))]).fit(X_tr, y_tr)\n",
    "\n",
    "va_probs = clf.predict_proba(X_va)[:,1]\n",
    "va_auc  = roc_auc_score(y_va, va_probs)\n",
    "print(\"Validation AUC (LR):\", round(va_auc,4))\n",
    "print(classification_report(y_va, (va_probs>=0.5).astype(int), digits=3))\n",
    "\n",
    "# ROC\n",
    "fpr, tpr, _ = roc_curve(y_va, va_probs)\n",
    "fig, ax = plt.subplots(figsize=(5,4))\n",
    "ax.plot(fpr, tpr); ax.plot([0,1],[0,1], linestyle=\"--\")\n",
    "ax.set_xlabel(\"FPR\"); ax.set_ylabel(\"TPR\"); ax.set_title(f\"ROC — Logistic (AUC={va_auc:.3f})\")\n",
    "plt.tight_layout(); savefig(fig, \"roc_logistic_baseline\")\n"
   ]
  },
  {
   "cell_type": "markdown",
   "id": "bb059403-1c62-4675-bd2e-e5f9afb4edab",
   "metadata": {},
   "source": [
    "PyTorch NN + ROC"
   ]
  },
  {
   "cell_type": "code",
   "execution_count": 3,
   "id": "5f35e3dc-7cfd-465e-b546-a71fe14bfcb2",
   "metadata": {},
   "outputs": [
    {
     "name": "stdout",
     "output_type": "stream",
     "text": [
      "Epoch 01 | train_loss=0.2699 | val_auc=0.6987\n",
      "Epoch 02 | train_loss=0.2356 | val_auc=0.7100\n",
      "Epoch 03 | train_loss=0.2334 | val_auc=0.7098\n",
      "Epoch 04 | train_loss=0.2323 | val_auc=0.7077\n",
      "Epoch 05 | train_loss=0.2311 | val_auc=0.7073\n",
      "Early stopping.\n",
      "Best NN AUC: 0.71\n",
      "Saved: /Users/manikmalhotra/jpm_quant_project/reports/figures/roc_nn_mlp.png\n"
     ]
    },
    {
     "data": {
      "image/png": "[encoded data removed]",
      "text/plain": [
       "<Figure size 500x400 with 1 Axes>"
      ]
     },
     "metadata": {},
     "output_type": "display_data"
    }
   ],
   "source": [
    "# NN: Compact MLP on OHE features\n",
    "import numpy as np, scipy.sparse as sp, torch, torch.nn as nn\n",
    "from torch.utils.data import Dataset, DataLoader\n",
    "from sklearn.base import BaseEstimator, TransformerMixin\n",
    "from sklearn.compose import ColumnTransformer\n",
    "from sklearn.preprocessing import OneHotEncoder, StandardScaler\n",
    "from sklearn.impute import SimpleImputer\n",
    "from sklearn.pipeline import Pipeline\n",
    "from sklearn.metrics import roc_auc_score, roc_curve\n",
    "import matplotlib.pyplot as plt\n",
    "\n",
    "# 1) Preprocessing for NN: group rare categories to keep OHE dimensions manageable\n",
    "class RareCategoryGrouper(BaseEstimator, TransformerMixin):\n",
    "    def __init__(self, min_count=10, replacement=\"__RARE__\"):\n",
    "        self.min_count=int(min_count); self.replacement=replacement\n",
    "        self.keep_maps_=None; self.n_features_=None\n",
    "    def _to_array(self, X):\n",
    "        import pandas as pd\n",
    "        if hasattr(X, \"values\"):  # pandas DataFrame/Series\n",
    "            return X.values\n",
    "        return np.asarray(X)\n",
    "    def fit(self, X, y=None):\n",
    "        import pandas as pd\n",
    "        X_arr=self._to_array(X)\n",
    "        if X_arr.ndim==1: X_arr=X_arr.reshape(-1,1)\n",
    "        self.n_features_=X_arr.shape[1]; self.keep_maps_=[]\n",
    "        for j in range(self.n_features_):\n",
    "            col=pd.Series(X_arr[:,j], copy=False)\n",
    "            vc=col.value_counts(dropna=False)\n",
    "            self.keep_maps_.append(set(vc[vc>=self.min_count].index.tolist()))\n",
    "        return self\n",
    "    def transform(self, X):\n",
    "        import pandas as pd\n",
    "        X_arr=self._to_array(X)\n",
    "        if X_arr.ndim==1: X_arr=X_arr.reshape(-1,1)\n",
    "        out=X_arr.astype(object, copy=True)\n",
    "        for j, keep in enumerate(self.keep_maps_):\n",
    "            col=pd.Series(out[:,j], copy=False)\n",
    "            mask=col.isin(keep).to_numpy()\n",
    "            tmp=out[:,j]\n",
    "            tmp[~mask]=self.replacement\n",
    "            out[:,j]=tmp\n",
    "        return out\n",
    "\n",
    "cat_small = Pipeline([\n",
    "    (\"imp\",  SimpleImputer(strategy=\"most_frequent\")),\n",
    "    (\"rare\", RareCategoryGrouper(min_count=10, replacement=\"__RARE__\")),\n",
    "    (\"oh\",   OneHotEncoder(handle_unknown=\"ignore\", sparse_output=True)),  # sklearn>=1.3\n",
    "])\n",
    "num_small = Pipeline([\n",
    "    (\"imp\", SimpleImputer(strategy=\"median\")),\n",
    "    (\"sc\",  StandardScaler(with_mean=False)),  # plays nice with sparse stacking\n",
    "])\n",
    "pre_small = ColumnTransformer([\n",
    "    (\"num\", num_small, num_cols),\n",
    "    (\"cat\", cat_small, cat_cols),\n",
    "])\n",
    "\n",
    "# Fit on training split only to avoid leakage; transform train/val\n",
    "X_tr_any = pre_small.fit_transform(X_tr)\n",
    "X_va_any = pre_small.transform(X_va)\n",
    "X_tr_sparse = X_tr_any.tocsr() if sp.issparse(X_tr_any) else sp.csr_matrix(X_tr_any)\n",
    "X_va_sparse = X_va_any.tocsr() if sp.issparse(X_va_any) else sp.csr_matrix(X_va_any)\n",
    "\n",
    "y_tr_np = y_tr.values.astype(np.float32)\n",
    "y_va_np = y_va.values.astype(np.float32)\n",
    "\n",
    "# 2) DataLoader that avoids dtype issues via a custom collate_fn\n",
    "class SparseBatchDS(Dataset):\n",
    "    def __init__(self, X_csr, y):\n",
    "        self.X = X_csr\n",
    "        self.y = y\n",
    "    def __len__(self): return self.X.shape[0]\n",
    "    def __getitem__(self, i):\n",
    "        # return numpy arrays; collate_fn will make tensors\n",
    "        return self.X[i].toarray().astype(np.float32).ravel(), np.float32(self.y[i])\n",
    "\n",
    "def collate_float32(batch):\n",
    "    xs, ys = zip(*batch)                          # tuples of arrays/scalars\n",
    "    xs = np.stack(xs).astype(np.float32)          # (B, F)\n",
    "    ys = np.asarray(ys, dtype=np.float32)         # (B,)\n",
    "    return torch.from_numpy(xs), torch.from_numpy(ys)\n",
    "\n",
    "BATCH = 256\n",
    "train_loader = DataLoader(SparseBatchDS(X_tr_sparse, y_tr_np),\n",
    "                          batch_size=BATCH, shuffle=True, num_workers=0,\n",
    "                          collate_fn=collate_float32)\n",
    "val_loader   = DataLoader(SparseBatchDS(X_va_sparse, y_va_np),\n",
    "                          batch_size=BATCH, shuffle=False, num_workers=0,\n",
    "                          collate_fn=collate_float32)\n",
    "\n",
    "# 3) Model: small MLP\n",
    "class MLP(nn.Module):\n",
    "    def __init__(self, in_dim, hidden=128, dropout=0.1):\n",
    "        super().__init__()\n",
    "        self.net = nn.Sequential(\n",
    "            nn.Linear(in_dim, hidden), nn.ReLU(), nn.Dropout(dropout),\n",
    "            nn.Linear(hidden, hidden//2), nn.ReLU(), nn.Dropout(dropout),\n",
    "            nn.Linear(hidden//2, 1)\n",
    "        )\n",
    "    def forward(self, x): return self.net(x).squeeze(-1)\n",
    "\n",
    "device = torch.device(\"cpu\")  # CPU is fine for tabular MLP\n",
    "in_dim = X_tr_sparse.shape[1]\n",
    "model  = MLP(in_dim).to(device)\n",
    "opt    = torch.optim.AdamW(model.parameters(), lr=3e-4)\n",
    "criterion = nn.BCEWithLogitsLoss()\n",
    "\n",
    "# 4) Train with early stopping on AUC\n",
    "def eval_auc(loader):\n",
    "    model.eval(); logits_all=[]; y_all=[]\n",
    "    with torch.no_grad():\n",
    "        for xb,yb in loader:\n",
    "            xb = xb.to(device)           # tensors already\n",
    "            logits_all.append(model(xb).cpu().numpy())\n",
    "            y_all.append(yb.cpu().numpy())\n",
    "    probs = 1/(1+np.exp(-np.concatenate(logits_all)))\n",
    "    ytrue = np.concatenate(y_all)\n",
    "    return roc_auc_score(ytrue, probs), probs\n",
    "\n",
    "best_auc, bad_epochs, patience = -1.0, 0, 3\n",
    "for epoch in range(20):\n",
    "    model.train(); tot=0.0; n=0\n",
    "    for xb,yb in train_loader:\n",
    "        xb, yb = xb.to(device), yb.to(device)\n",
    "        opt.zero_grad()\n",
    "        loss = criterion(model(xb), yb)\n",
    "        loss.backward(); opt.step()\n",
    "        tot += loss.item()*xb.size(0); n += xb.size(0)\n",
    "    tr_loss = tot / max(1,n)\n",
    "    va_auc, _ = eval_auc(val_loader)\n",
    "    print(f\"Epoch {epoch+1:02d} | train_loss={tr_loss:.4f} | val_auc={va_auc:.4f}\")\n",
    "    if va_auc > best_auc + 1e-4:\n",
    "        best_auc, bad_epochs = va_auc, 0\n",
    "        best_state = {k: v.cpu().clone() for k,v in model.state_dict().items()}\n",
    "    else:\n",
    "        bad_epochs += 1\n",
    "        if bad_epochs >= patience:\n",
    "            print(\"Early stopping.\"); break\n",
    "\n",
    "# restore best\n",
    "if 'best_state' in locals():\n",
    "    model.load_state_dict(best_state)\n",
    "print(\"Best NN AUC:\", round(best_auc, 4))\n",
    "\n",
    "# 5) ROC curve for NN\n",
    "_, va_probs_nn = eval_auc(val_loader)\n",
    "fpr, tpr, _ = roc_curve(y_va_np, va_probs_nn)\n",
    "fig, ax = plt.subplots(figsize=(5,4))\n",
    "ax.plot(fpr, tpr, label=f\"NN AUC={best_auc:.3f}\")\n",
    "ax.plot([0,1],[0,1], linestyle=\"--\", color=\"gray\")\n",
    "ax.set_xlabel(\"FPR\"); ax.set_ylabel(\"TPR\"); ax.set_title(\"ROC — NN)\")\n",
    "ax.legend()\n",
    "plt.tight_layout(); savefig(fig, \"roc_nn_mlp\")\n",
    "\n"
   ]
  },
  {
   "cell_type": "code",
   "execution_count": null,
   "id": "07d0f3fb-813f-42af-8a33-6c450be3716d",
   "metadata": {},
   "outputs": [],
   "source": []
  },
  {
   "cell_type": "code",
   "execution_count": null,
   "id": "9057c3b9-11e6-40bb-9ea9-40d16f5c4223",
   "metadata": {},
   "outputs": [],
   "source": []
  },
  {
   "cell_type": "code",
   "execution_count": null,
   "id": "294e5c4e-f092-4f9a-b70d-728fdd467c30",
   "metadata": {},
   "outputs": [],
   "source": []
  },
  {
   "cell_type": "code",
   "execution_count": null,
   "id": "0eca7b99-db89-4261-90f3-4a527abf6da0",
   "metadata": {},
   "outputs": [],
   "source": []
  },
  {
   "cell_type": "code",
   "execution_count": null,
   "id": "f3461b7c-bf53-44de-ab73-d21419c8e081",
   "metadata": {},
   "outputs": [],
   "source": []
  }
 ],
 "metadata": {
  "kernelspec": {
   "display_name": "jpm-test",
   "language": "python",
   "name": "jpm"
  },
  "language_info": {
   "codemirror_mode": {
    "name": "ipython",
    "version": 3
   },
   "file_extension": ".py",
   "mimetype": "text/x-python",
   "name": "python",
   "nbconvert_exporter": "python",
   "pygments_lexer": "ipython3",
   "version": "3.10.18"
  }
 },
 "nbformat": 4,
 "nbformat_minor": 5
}
