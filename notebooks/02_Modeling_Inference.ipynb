{
 "cells": [
  {
   "cell_type": "markdown",
   "id": "8e1ace0c-0d69-4421-ba37-3c998c81885e",
   "metadata": {},
   "source": [
    "Modeling (baseline + NN) & Inference"
   ]
  },
  {
   "cell_type": "markdown",
   "id": "9fe05256-fb9c-4be0-a86e-9fcaeafa5d37",
   "metadata": {},
   "source": [
    "Setup & load"
   ]
  },
  {
   "cell_type": "code",
   "execution_count": 1,
   "id": "a8b70441-555a-4420-af86-605fa177206c",
   "metadata": {},
   "outputs": [
    {
     "data": {
      "text/plain": [
       "((199121, 23), (102505, 23), 'bad_flag')"
      ]
     },
     "execution_count": 1,
     "metadata": {},
     "output_type": "execute_result"
    }
   ],
   "source": [
    "import pandas as pd, numpy as np, matplotlib.pyplot as plt\n",
    "from pathlib import Path\n",
    "\n",
    "ROOT = Path(\"..\").resolve()\n",
    "DATA = ROOT/\"data\"\n",
    "FIGS = ROOT/\"reports/figures\"\n",
    "FIGS.mkdir(parents=True, exist_ok=True)\n",
    "def savefig(fig, name): \n",
    "    path = FIGS/f\"{name}.png\"; fig.savefig(path, dpi=300, bbox_inches=\"tight\"); print(\"Saved:\", path)\n",
    "\n",
    "def read_data(path: Path):\n",
    "    with open(path, \"r\", encoding=\"utf-8\", errors=\"ignore\") as f:\n",
    "        first = f.readline()\n",
    "    skip = 1 if first.lower().startswith(\"data derived\") else 0\n",
    "    return pd.read_csv(path, low_memory=False, skiprows=skip)\n",
    "\n",
    "train = read_data(DATA/\"training_loan_data.csv\")\n",
    "test  = read_data(DATA/\"testing_loan_data.csv\")\n",
    "target_col = next((c for c in train.columns if c.strip().lower()==\"bad_flag\"), None)\n",
    "assert target_col\n",
    "drop_cols = [c for c in [\"id\",\"member_id\"] if c in train.columns]\n",
    "train.shape, test.shape, target_col\n"
   ]
  },
  {
   "cell_type": "markdown",
   "id": "4946ba91-bb1b-40af-b0a3-64a670c2eca1",
   "metadata": {},
   "source": [
    "Logistic Regression baseline (preprocessing + ROC figure)"
   ]
  },
  {
   "cell_type": "code",
   "execution_count": null,
   "id": "ccf25045-9a41-4482-ad40-e4e64b820399",
   "metadata": {},
   "outputs": [],
   "source": [
    "import matplotlib.pyplot as plt\n",
    "\n",
    "from sklearn.compose import ColumnTransformer\n",
    "from sklearn.preprocessing import OneHotEncoder, StandardScaler\n",
    "from sklearn.impute import SimpleImputer\n",
    "from sklearn.pipeline import Pipeline\n",
    "from sklearn.linear_model import LogisticRegression\n",
    "from sklearn.model_selection import train_test_split\n",
    "from sklearn.metrics import roc_auc_score, roc_curve, classification_report\n",
    "\n",
    "y_raw = pd.to_numeric(train[target_col], errors=\"coerce\")\n",
    "mask = y_raw.notna()\n",
    "y = y_raw.loc[mask].astype(int)\n",
    "X = train.loc[mask].drop(columns=drop_cols + [target_col])\n",
    "\n",
    "cat_cols = [c for c in X if X[c].dtype == \"object\"]\n",
    "num_cols = [c for c in X if c not in cat_cols]\n",
    "\n",
    "pre = ColumnTransformer([\n",
    "    (\"num\", Pipeline([(\"imp\", SimpleImputer(strategy=\"median\")),\n",
    "                      (\"sc\",  StandardScaler(with_mean=False))]), num_cols),\n",
    "    (\"cat\", Pipeline([(\"imp\", SimpleImputer(strategy=\"most_frequent\")),\n",
    "                      (\"oh\",  OneHotEncoder(handle_unknown=\"ignore\"))]), cat_cols),\n",
    "])\n",
    "\n",
    "X_tr, X_va, y_tr, y_va = train_test_split(X, y, test_size=0.2, random_state=42, stratify=y)\n",
    "clf = Pipeline([(\"pre\", pre), (\"lr\", LogisticRegression(max_iter=400))]).fit(X_tr, y_tr)\n",
    "\n",
    "va_probs = clf.predict_proba(X_va)[:,1]\n",
    "va_auc  = roc_auc_score(y_va, va_probs)\n",
    "print(\"Validation AUC (LR):\", round(va_auc,4))\n",
    "print(classification_report(y_va, (va_probs>=0.5).astype(int), digits=3))\n",
    "\n",
    "# ROC\n",
    "fpr, tpr, _ = roc_curve(y_va, va_probs)\n",
    "fig, ax = plt.subplots(figsize=(5,4))\n",
    "ax.plot(fpr, tpr); ax.plot([0,1],[0,1], linestyle=\"--\")\n",
    "ax.set_xlabel(\"FPR\"); ax.set_ylabel(\"TPR\"); ax.set_title(f\"ROC — Logistic (AUC={va_auc:.3f})\")\n",
    "plt.tight_layout(); savefig(fig, \"roc_logistic_baseline\")\n",
    "plt.show()"
   ]
  },
  {
   "cell_type": "code",
   "execution_count": null,
   "id": "a3506723-9923-48c1-a6d3-f434f5672cd3",
   "metadata": {},
   "outputs": [],
   "source": []
  },
  {
   "cell_type": "code",
   "execution_count": null,
   "id": "5f35e3dc-7cfd-465e-b546-a71fe14bfcb2",
   "metadata": {},
   "outputs": [],
   "source": []
  },
  {
   "cell_type": "code",
   "execution_count": null,
   "id": "07d0f3fb-813f-42af-8a33-6c450be3716d",
   "metadata": {},
   "outputs": [],
   "source": []
  }
 ],
 "metadata": {
  "kernelspec": {
   "display_name": "jpm_test",
   "language": "python",
   "name": "jpm"
  },
  "language_info": {
   "codemirror_mode": {
    "name": "ipython",
    "version": 3
   },
   "file_extension": ".py",
   "mimetype": "text/x-python",
   "name": "python",
   "nbconvert_exporter": "python",
   "pygments_lexer": "ipython3",
   "version": "3.10.18"
  }
 },
 "nbformat": 4,
 "nbformat_minor": 5
}
